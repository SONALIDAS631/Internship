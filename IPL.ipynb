{
 "cells": [
  {
   "cell_type": "code",
   "execution_count": null,
   "metadata": {
    "id": "pvJGEiCCpP_i"
   },
   "outputs": [],
   "source": [
    "import numpy as np\n",
    "import matplotlib.pyplot as plt\n",
    "import pandas as pd\n"
   ]
  },
  {
   "cell_type": "code",
   "execution_count": null,
   "metadata": {
    "colab": {
     "base_uri": "https://localhost:8080/"
    },
    "id": "1_yELU6fxiXx",
    "outputId": "1fc45bd6-57fd-406b-bbff-9914fea47cdf"
   },
   "outputs": [
    {
     "name": "stdout",
     "output_type": "stream",
     "text": [
      "Mounted at /content/drive\n"
     ]
    }
   ],
   "source": [
    "from google.colab import drive\n",
    "drive.mount('/content/drive')"
   ]
  },
  {
   "cell_type": "code",
   "execution_count": null,
   "metadata": {
    "id": "aCLsNSJZrvih"
   },
   "outputs": [],
   "source": [
    "final_match = pd.read_csv(\"/content/drive/MyDrive/ML_project/matches_with_points.csv\")\n",
    "# final_match2 = pd.read_csv(\"/content/drive/MyDrive/ML_project/matches_with_average_points.csv\")\n",
    "\n",
    "player_points = pd.read_csv(\"/content/drive/MyDrive/ML_project/player_points.csv\")\n",
    "team_player = pd.read_csv(\"/content/drive/MyDrive/ML_project/team_player_df.csv\")"
   ]
  },
  {
   "cell_type": "code",
   "execution_count": null,
   "metadata": {
    "id": "1z_fU8eOu1L_"
   },
   "outputs": [],
   "source": [
    "final_match.head()"
   ]
  },
  {
   "cell_type": "code",
   "execution_count": null,
   "metadata": {
    "id": "K80AfnAmu4A-"
   },
   "outputs": [],
   "source": [
    "player_points.head(20)"
   ]
  },
  {
   "cell_type": "code",
   "execution_count": null,
   "metadata": {
    "id": "Bn3ZacaVu4Ng"
   },
   "outputs": [],
   "source": [
    "team_player.head()"
   ]
  },
  {
   "cell_type": "code",
   "execution_count": null,
   "metadata": {
    "id": "QRRanG9Uv44w"
   },
   "outputs": [],
   "source": [
    "final_match = final_match.loc[:, ~final_match.columns.str.contains('^Unnamed')]\n",
    "final_match.head()"
   ]
  },
  {
   "cell_type": "code",
   "execution_count": null,
   "metadata": {
    "id": "VA85ePBaw7eb"
   },
   "outputs": [],
   "source": [
    "ActualNames = ['Sunrisers Hyderabad', 'Mumbai Indians', 'Gujarat Lions', 'Rising Pune Supergiant', 'Royal Challengers Bangalore', 'Kolkata Knight Riders', 'Delhi Daredevils', 'Kings XI Punjab', 'Chennai Super Kings', 'Rajasthan Royals', 'Deccan Chargers',\n",
    "    'Kochi Tuskers Kerala', 'Pune Warriors', 'Rising Pune Supergiants', 'Delhi Capitals']\n",
    "\n",
    "ChangedNames = ['SRH','MI','GL','RPS','RCB','KKR','DC','KXIP','CSK','RR','SRH','KTK','PW','RPS','DC']\n",
    "\n",
    "final_match.replace(ActualNames, ChangedNames, inplace = True)"
   ]
  },
  {
   "cell_type": "code",
   "execution_count": null,
   "metadata": {
    "id": "QfkHZpFixN0Y"
   },
   "outputs": [],
   "source": [
    "nameChangedct = {}\n",
    "for name in range(len(ActualNames)):\n",
    "    nameChangedct[ActualNames[name]] = ChangedNames[name]\n",
    "\n",
    "team_player.rename(nameChangedct, axis='columns', inplace=True)\n",
    "team_player = team_player.loc[:, ~team_player.columns.str.contains('^Unnamed')]\n",
    "team_player.head(15)"
   ]
  },
  {
   "cell_type": "code",
   "execution_count": null,
   "metadata": {
    "id": "uxK4WUXNzFau"
   },
   "outputs": [],
   "source": [
    "matches_pred = final_match.drop(columns=['id', 'player_of_match', 'venue', 'umpire1', 'umpire2', 'result_margin'])\n",
    "matches_pred.head()\n"
   ]
  },
  {
   "cell_type": "code",
   "execution_count": null,
   "metadata": {
    "id": "4iV69Hwp6iFQ"
   },
   "outputs": [],
   "source": [
    "player_points.columns.values[0] = \"year\"\n",
    "player_points.fillna(0, inplace=True)\n",
    "player_points.head()"
   ]
  },
  {
   "cell_type": "code",
   "execution_count": null,
   "metadata": {
    "id": "Itt00ti30hzk"
   },
   "outputs": [],
   "source": [
    "# Regression\n",
    "from sklearn.linear_model import Lasso\n",
    "\n",
    "reg_data = player_points.copy(deep=True)\n",
    "player_points_prediction = {}\n",
    "\n",
    "test_all = []\n",
    "pred_all = []\n",
    "\n",
    "for colNum in range(1, len(player_points.columns)):\n",
    "    df = reg_data.iloc[: , [0, colNum]].copy() \n",
    "\n",
    "    train = df[df[\"year\"] != 2020]\n",
    "    test = df[df[\"year\"] == 2020]\n",
    "    \n",
    "    x_train = train[\"year\"].values.reshape(-1, 1)\n",
    "    \n",
    "    y_train = train[player_points.columns[colNum]].values.reshape(-1, 1)\n",
    "    x_test = test[\"year\"].values.reshape(1, -1)\n",
    "    y_test = test[player_points.columns[colNum]].values.reshape(1, -1)\n",
    "\n",
    "    test_all.append(y_test[0][0])\n",
    "\n",
    "    model = Lasso(alpha = 0.1)\n",
    "    model.fit(x_train, y_train)\n",
    "\n",
    "    y_pred = model.predict(x_test)\n",
    "    pred_all.append(y_pred[0])\n",
    "\n",
    "    player_points_prediction[player_points.columns[colNum]] = y_pred[0]\n",
    "    \n",
    "\n"
   ]
  },
  {
   "cell_type": "code",
   "execution_count": null,
   "metadata": {
    "id": "31jab5iWGw1W"
   },
   "outputs": [],
   "source": [
    "# Calculating mse, mae and rmse\n",
    "from sklearn.metrics import mean_absolute_error, mean_absolute_percentage_error, mean_squared_error\n",
    "\n",
    "print(mean_absolute_error(test_all, pred_all))\n",
    "print(mean_squared_error(test_all, pred_all, squared=True))\n",
    "print(mean_absolute_percentage_error(test_all, pred_all))\n",
    "print(mean_squared_error(test_all, pred_all, squared=False))"
   ]
  },
  {
   "cell_type": "code",
   "execution_count": null,
   "metadata": {
    "id": "dTaIo2nGK1cS"
   },
   "outputs": [],
   "source": [
    "teams = matches_pred['team1'].unique()\n",
    "teams"
   ]
  },
  {
   "cell_type": "code",
   "execution_count": null,
   "metadata": {
    "id": "RQQlVz-XLCnN"
   },
   "outputs": [],
   "source": [
    "team_2020_points = {}\n",
    "\n",
    "for team_name in teams:\n",
    "    tot_pts = 0\n",
    "    team_members = team_player.iloc[-1][team_name]\n",
    "    if type(team_members) is str:\n",
    "        team_members = team_members.strip(\"{}\")\n",
    "        for player in team_members.split(\", \"):\n",
    "            try:\n",
    "                tot_pts += player_points_prediction[player.strip(\"'\")]\n",
    "            except KeyError:\n",
    "                tot_pts += 0\n",
    "    \n",
    "        # team_2020_points[team_name] = tot_pts/len(team_members.split(\", \"))\n",
    "\n",
    "    # else:\n",
    "        # team_2020_points[team_name] = 0\n",
    "    team_2020_points[team_name] = tot_pts\n",
    "    \n",
    "\n",
    "\n"
   ]
  },
  {
   "cell_type": "code",
   "execution_count": null,
   "metadata": {
    "id": "iYjZB35qPlEE"
   },
   "outputs": [],
   "source": [
    "for i in range(matches_pred[matches_pred[\"yr\"] != 2020].shape[0], matches_pred.shape[0]):\n",
    "  matches_pred.at[i, 'team1_points'] =  float(team_2020_points[matches_pred.iloc[i]['team1']])\n",
    "  matches_pred.at[i, 'team2_points'] =  float(team_2020_points[matches_pred.iloc[i]['team2']])"
   ]
  },
  {
   "cell_type": "code",
   "execution_count": null,
   "metadata": {
    "colab": {
     "base_uri": "https://localhost:8080/",
     "height": 204
    },
    "id": "OLR28KOrztNz",
    "outputId": "9eeb7e6f-2248-4b24-a908-93aeef0308de"
   },
   "outputs": [
    {
     "data": {
      "text/html": [
       "<div>\n",
       "<style scoped>\n",
       "    .dataframe tbody tr th:only-of-type {\n",
       "        vertical-align: middle;\n",
       "    }\n",
       "\n",
       "    .dataframe tbody tr th {\n",
       "        vertical-align: top;\n",
       "    }\n",
       "\n",
       "    .dataframe thead th {\n",
       "        text-align: right;\n",
       "    }\n",
       "</style>\n",
       "<table border=\"1\" class=\"dataframe\">\n",
       "  <thead>\n",
       "    <tr style=\"text-align: right;\">\n",
       "      <th></th>\n",
       "      <th>city</th>\n",
       "      <th>neutral_venue</th>\n",
       "      <th>team1</th>\n",
       "      <th>team2</th>\n",
       "      <th>toss_winner</th>\n",
       "      <th>toss_decision</th>\n",
       "      <th>winner</th>\n",
       "      <th>result</th>\n",
       "      <th>yr</th>\n",
       "      <th>team1_points</th>\n",
       "      <th>team2_points</th>\n",
       "    </tr>\n",
       "  </thead>\n",
       "  <tbody>\n",
       "    <tr>\n",
       "      <th>0</th>\n",
       "      <td>2</td>\n",
       "      <td>0</td>\n",
       "      <td>8</td>\n",
       "      <td>3</td>\n",
       "      <td>8</td>\n",
       "      <td>1</td>\n",
       "      <td>3</td>\n",
       "      <td>0</td>\n",
       "      <td>2008</td>\n",
       "      <td>1595.5</td>\n",
       "      <td>1535.5</td>\n",
       "    </tr>\n",
       "    <tr>\n",
       "      <th>1</th>\n",
       "      <td>7</td>\n",
       "      <td>0</td>\n",
       "      <td>5</td>\n",
       "      <td>0</td>\n",
       "      <td>0</td>\n",
       "      <td>0</td>\n",
       "      <td>0</td>\n",
       "      <td>0</td>\n",
       "      <td>2008</td>\n",
       "      <td>2006.5</td>\n",
       "      <td>2032.0</td>\n",
       "    </tr>\n",
       "    <tr>\n",
       "      <th>2</th>\n",
       "      <td>10</td>\n",
       "      <td>0</td>\n",
       "      <td>1</td>\n",
       "      <td>10</td>\n",
       "      <td>10</td>\n",
       "      <td>0</td>\n",
       "      <td>1</td>\n",
       "      <td>1</td>\n",
       "      <td>2008</td>\n",
       "      <td>1796.5</td>\n",
       "      <td>2214.5</td>\n",
       "    </tr>\n",
       "    <tr>\n",
       "      <th>3</th>\n",
       "      <td>23</td>\n",
       "      <td>0</td>\n",
       "      <td>6</td>\n",
       "      <td>8</td>\n",
       "      <td>6</td>\n",
       "      <td>0</td>\n",
       "      <td>8</td>\n",
       "      <td>1</td>\n",
       "      <td>2008</td>\n",
       "      <td>1849.5</td>\n",
       "      <td>1595.5</td>\n",
       "    </tr>\n",
       "    <tr>\n",
       "      <th>4</th>\n",
       "      <td>22</td>\n",
       "      <td>0</td>\n",
       "      <td>3</td>\n",
       "      <td>11</td>\n",
       "      <td>11</td>\n",
       "      <td>0</td>\n",
       "      <td>3</td>\n",
       "      <td>1</td>\n",
       "      <td>2008</td>\n",
       "      <td>1535.5</td>\n",
       "      <td>1738.0</td>\n",
       "    </tr>\n",
       "  </tbody>\n",
       "</table>\n",
       "</div>"
      ],
      "text/plain": [
       "   city  neutral_venue  team1  team2  ...  result    yr  team1_points  team2_points\n",
       "0     2              0      8      3  ...       0  2008        1595.5        1535.5\n",
       "1     7              0      5      0  ...       0  2008        2006.5        2032.0\n",
       "2    10              0      1     10  ...       1  2008        1796.5        2214.5\n",
       "3    23              0      6      8  ...       1  2008        1849.5        1595.5\n",
       "4    22              0      3     11  ...       1  2008        1535.5        1738.0\n",
       "\n",
       "[5 rows x 11 columns]"
      ]
     },
     "execution_count": 20,
     "metadata": {},
     "output_type": "execute_result"
    }
   ],
   "source": [
    "from collections import defaultdict\n",
    "from sklearn.preprocessing import LabelEncoder\n",
    "\n",
    "# encodedct = defaultdict(LabelEncoder)\n",
    "# toEncode = [\"city\", \"toss_winner\", \"toss_decision\", \"result\"]\n",
    "# matches_pred_encoded = matches_pred.copy(deep = True)\n",
    "\n",
    "# for colName in toEncode:\n",
    "#     matches_pred_encoded[colName] = encodedct[colName].fit_transform(matches_pred[colName])\n",
    "\n",
    "# matches_pred_encoded[\"winner\"] = encodedct[\"toss_winner\"].transform(matches_pred_encoded[\"winner\"])\n",
    "\n",
    "encoder = LabelEncoder()\n",
    "matches_pred[\"team1\"] = encoder.fit_transform(matches_pred[\"team1\"])\n",
    "matches_pred[\"team2\"] = encoder.fit_transform(matches_pred[\"team2\"])\n",
    "matches_pred[\"winner\"] = encoder.fit_transform(matches_pred[\"winner\"].astype(str))\n",
    "matches_pred[\"toss_winner\"] = encoder.fit_transform(matches_pred[\"toss_winner\"])\n",
    "\n",
    "matches_pred['city'] = encoder.fit_transform(matches_pred['city'])\n",
    "matches_pred[\"toss_decision\"] = encoder.fit_transform(matches_pred[\"toss_decision\"])\n",
    "\n",
    "matches_pred[\"result\"] = encoder.fit_transform(matches_pred[\"result\"])\n",
    "\n",
    "\n",
    "matches_pred.head()"
   ]
  },
  {
   "cell_type": "code",
   "execution_count": null,
   "metadata": {
    "id": "ZZ5TnwZDUFum"
   },
   "outputs": [],
   "source": [
    "# toEncodeAlso = [\"team1\", \"team2\"]\n",
    "# for colName in toEncodeAlso:\n",
    "#     matches_pred_encoded[colName] = encodedct[\"toss_winner\"].transform(matches_pred[colName])\n",
    "\n",
    "# matches_pred_encoded[\"yr\"] = encodedct[\"yr\"].fit_transform(matches_pred[\"yr\"])\n"
   ]
  },
  {
   "cell_type": "code",
   "execution_count": null,
   "metadata": {
    "id": "ci_4d2KJVMdU"
   },
   "outputs": [],
   "source": [
    "matches_pred.loc[matches_pred[\"winner\"] == matches_pred[\"team1\"],\"team1_win\"] = 1\n",
    "matches_pred.loc[matches_pred[\"winner\"] != matches_pred[\"team1\"],\"team1_win\"] = 0\n",
    "\n",
    "matches_pred.loc[matches_pred[\"toss_winner\"] == matches_pred[\"team1\"],\"team1_toss_win\"] = 1\n",
    "matches_pred.loc[matches_pred[\"toss_winner\"] != matches_pred[\"team1\"],\"team1_toss_win\"] = 0\n"
   ]
  },
  {
   "cell_type": "code",
   "execution_count": null,
   "metadata": {
    "id": "iKfsQNiKUXuR"
   },
   "outputs": [],
   "source": [
    "train = matches_pred[matches_pred['yr'] != 2020]\n",
    "test = matches_pred[matches_pred['yr'] == 2020]"
   ]
  },
  {
   "cell_type": "code",
   "execution_count": null,
   "metadata": {
    "id": "_IzejXusWATC"
   },
   "outputs": [],
   "source": [
    "train_y = train.team1_win.values\n",
    "del train[\"team1_win\"]\n",
    "del train[\"winner\"]\n",
    "del train['yr']\n",
    "del train[\"toss_winner\"]\n",
    "train_X = train.values.astype(np.float)"
   ]
  },
  {
   "cell_type": "code",
   "execution_count": null,
   "metadata": {
    "id": "9B_-xksWWKt8"
   },
   "outputs": [],
   "source": [
    "test_y = test.team1_win.values\n",
    "del test[\"team1_win\"]\n",
    "del test[\"winner\"]\n",
    "del test[\"toss_winner\"]\n",
    "del test['yr']\n",
    "test_X = test.values.astype(np.float)"
   ]
  },
  {
   "cell_type": "code",
   "execution_count": null,
   "metadata": {
    "id": "Nhrk7ojUWZTi"
   },
   "outputs": [],
   "source": [
    "from sklearn.linear_model import LogisticRegression\n",
    "from sklearn.metrics import confusion_matrix, ConfusionMatrixDisplay\n",
    "from sklearn.metrics import precision_score, f1_score, recall_score, accuracy_score"
   ]
  },
  {
   "cell_type": "code",
   "execution_count": null,
   "metadata": {
    "id": "RxJ6EG6tWQvE"
   },
   "outputs": [],
   "source": [
    "logreg = LogisticRegression(max_iter = 1000)\n",
    "logreg.fit(train_X, train_y)\n",
    "pred_y = logreg.predict(test_X)\n",
    "\n",
    "print('Accuracy of Logistic Regression Classifier on test set: {:.4f}'.format(logreg.score(test_X, test_y)))\n",
    "\n",
    "print(precision_score(pred_y, test_y))\n",
    "print(f1_score(pred_y, test_y))\n",
    "print(recall_score(pred_y, test_y))\n",
    "\n",
    "cm = confusion_matrix(test_y, pred_y, labels = logreg.classes_)\n",
    "disp = ConfusionMatrixDisplay(confusion_matrix = cm, display_labels = logreg.classes_)\n",
    "disp.plot()\n",
    "plt.show()\n"
   ]
  },
  {
   "cell_type": "code",
   "execution_count": null,
   "metadata": {
    "id": "v87B9HfocXy3"
   },
   "outputs": [],
   "source": [
    "from sklearn import svm\n",
    "\n",
    "model = svm.SVC()\n",
    "model.fit(train_X, train_y)\n",
    "pred_y = model.predict(test_X)\n",
    "\n",
    "print('Accuracy of SVM Classifier on test set: {:.4f}'.format(accuracy_score(test_y, pred_y)))\n",
    "\n",
    "print(precision_score(pred_y, test_y))\n",
    "print(f1_score(pred_y, test_y))\n",
    "print(recall_score(pred_y, test_y))\n",
    "\n",
    "cm = confusion_matrix(test_y, pred_y, labels = logreg.classes_)\n",
    "disp = ConfusionMatrixDisplay(confusion_matrix = cm, display_labels = logreg.classes_)\n",
    "disp.plot()\n",
    "plt.show()\n",
    "\n"
   ]
  },
  {
   "cell_type": "code",
   "execution_count": null,
   "metadata": {
    "id": "wSkOwOb33bfN"
   },
   "outputs": [],
   "source": [
    "from sklearn import tree\n",
    "\n",
    "model = tree.DecisionTreeClassifier()\n",
    "model.fit(train_X, train_y)\n",
    "pred_y = model.predict(test_X)\n",
    "\n",
    "print('Accuracy of Decision Tree Classifier on test set: {:.4f}'.format(accuracy_score(test_y, pred_y)))\n",
    "\n",
    "print(precision_score(pred_y, test_y))\n",
    "print(f1_score(pred_y, test_y))\n",
    "print(recall_score(pred_y, test_y))\n",
    "\n",
    "cm = confusion_matrix(test_y, pred_y, labels = logreg.classes_)\n",
    "disp = ConfusionMatrixDisplay(confusion_matrix = cm, display_labels = logreg.classes_)\n",
    "disp.plot()\n",
    "plt.show()\n",
    "\n"
   ]
  },
  {
   "cell_type": "code",
   "execution_count": null,
   "metadata": {
    "id": "gj_lBRf53Crg"
   },
   "outputs": [],
   "source": [
    "from sklearn.ensemble import AdaBoostClassifier\n",
    "\n",
    "model = AdaBoostClassifier(n_estimators=100)\n",
    "model.fit(train_X, train_y)\n",
    "pred_y = model.predict(test_X)\n",
    "\n",
    "print('Accuracy of AdaBoost Classifier on test set: {:.4f}'.format(accuracy_score(test_y, pred_y)))\n",
    "\n",
    "print(precision_score(pred_y, test_y))\n",
    "print(f1_score(pred_y, test_y))\n",
    "print(recall_score(pred_y, test_y))\n",
    "\n",
    "cm = confusion_matrix(test_y, pred_y, labels = logreg.classes_)\n",
    "disp = ConfusionMatrixDisplay(confusion_matrix = cm, display_labels = logreg.classes_)\n",
    "disp.plot()\n",
    "plt.show()\n",
    "\n"
   ]
  },
  {
   "cell_type": "code",
   "execution_count": null,
   "metadata": {
    "id": "woy31I_353kk"
   },
   "outputs": [],
   "source": [
    "from sklearn.neural_network import MLPClassifier\n",
    "\n",
    "model = MLPClassifier(solver='lbfgs', max_iter = 50000)\n",
    "model.fit(train_X, train_y)\n",
    "pred_y = model.predict(test_X)\n",
    "\n",
    "print('Accuracy of MLP Classifier on test set: {:.4f}'.format(accuracy_score(test_y, pred_y)))\n",
    "\n",
    "print(precision_score(pred_y, test_y))\n",
    "print(f1_score(pred_y, test_y))\n",
    "print(recall_score(pred_y, test_y))\n",
    "\n",
    "cm = confusion_matrix(test_y, pred_y, labels = logreg.classes_)\n",
    "disp = ConfusionMatrixDisplay(confusion_matrix = cm, display_labels = logreg.classes_)\n",
    "disp.plot()\n",
    "plt.show()\n",
    "\n"
   ]
  },
  {
   "cell_type": "code",
   "execution_count": null,
   "metadata": {
    "id": "MAhkEFdP6OJe"
   },
   "outputs": [],
   "source": []
  }
 ],
 "metadata": {
  "colab": {
   "name": "All Models.ipynb",
   "provenance": []
  },
  "kernelspec": {
   "display_name": "Python 3 (ipykernel)",
   "language": "python",
   "name": "python3"
  },
  "language_info": {
   "codemirror_mode": {
    "name": "ipython",
    "version": 3
   },
   "file_extension": ".py",
   "mimetype": "text/x-python",
   "name": "python",
   "nbconvert_exporter": "python",
   "pygments_lexer": "ipython3",
   "version": "3.9.13"
  }
 },
 "nbformat": 4,
 "nbformat_minor": 1
}
